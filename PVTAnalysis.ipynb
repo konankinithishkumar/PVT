{
  "nbformat": 4,
  "nbformat_minor": 0,
  "metadata": {
    "colab": {
      "name": "PVTAnalysis.ipynb",
      "provenance": [],
      "authorship_tag": "ABX9TyPdwROIif2x2AM/KDQl7S5N",
      "include_colab_link": true
    },
    "kernelspec": {
      "name": "python3",
      "display_name": "Python 3"
    }
  },
  "cells": [
    {
      "cell_type": "markdown",
      "metadata": {
        "id": "view-in-github",
        "colab_type": "text"
      },
      "source": [
        "<a href=\"https://colab.research.google.com/github/Divyanshu-ISM/Oil-and-Gas-data-analysis/blob/master/PVTAnalysis.ipynb\" target=\"_parent\"><img src=\"https://colab.research.google.com/assets/colab-badge.svg\" alt=\"Open In Colab\"/></a>"
      ]
    },
    {
      "cell_type": "markdown",
      "metadata": {
        "id": "gZTWhjLzGT1P",
        "colab_type": "text"
      },
      "source": [
        "#Real Gas - PVT properties calculation\n",
        "\n",
        "Divyanshu vyas | dvyas13ad@gmail.com"
      ]
    },
    {
      "cell_type": "markdown",
      "metadata": {
        "id": "4ERaug9gGr8L",
        "colab_type": "text"
      },
      "source": [
        "###Problem Statement- \n",
        "\n",
        "A Gas Reservoir has P(initial) = 3000 psia and T = 180 deg F, and the given composition. "
      ]
    },
    {
      "cell_type": "markdown",
      "metadata": {
        "id": "ofyjBC1GHm9_",
        "colab_type": "text"
      },
      "source": [
        "Carry out the PVT calculation, starting from Z calculation."
      ]
    },
    {
      "cell_type": "markdown",
      "metadata": {
        "id": "7Gts2ME8eYH_",
        "colab_type": "text"
      },
      "source": [
        "(Courtsey: Standing, Katz, Dranchuk et al.)"
      ]
    },
    {
      "cell_type": "code",
      "metadata": {
        "id": "8pAQTOC-GObZ",
        "colab_type": "code",
        "colab": {}
      },
      "source": [
        "import numpy as np\n",
        "import pandas as pd\n",
        "import matplotlib.pyplot as plt\n",
        "import math\n",
        "%matplotlib inline"
      ],
      "execution_count": 34,
      "outputs": []
    },
    {
      "cell_type": "code",
      "metadata": {
        "id": "dihvVsvoGmpI",
        "colab_type": "code",
        "colab": {
          "base_uri": "https://localhost:8080/",
          "height": 258
        },
        "outputId": "1a871b67-afc4-4b5f-c448-2a8e179335f2"
      },
      "source": [
        "#Composition\n",
        "comp = {'element':['CO2','N2','C1','C2','C3','i-C4','n-C4'],\n",
        "        'yi':[0.02,0.01,0.85,0.04,0.03,0.03,0.02],\n",
        "        'Tci(R)':[547.91,227.49,343.33,549.92,666.06,734.46,765.62],\n",
        "        'Pci(psi)':[1071,493.1,666.4,706.5,616.4,527.9,550.6]}\n",
        "\n",
        "df = pd.DataFrame(comp)\n",
        "\n",
        "df"
      ],
      "execution_count": 7,
      "outputs": [
        {
          "output_type": "execute_result",
          "data": {
            "text/html": [
              "<div>\n",
              "<style scoped>\n",
              "    .dataframe tbody tr th:only-of-type {\n",
              "        vertical-align: middle;\n",
              "    }\n",
              "\n",
              "    .dataframe tbody tr th {\n",
              "        vertical-align: top;\n",
              "    }\n",
              "\n",
              "    .dataframe thead th {\n",
              "        text-align: right;\n",
              "    }\n",
              "</style>\n",
              "<table border=\"1\" class=\"dataframe\">\n",
              "  <thead>\n",
              "    <tr style=\"text-align: right;\">\n",
              "      <th></th>\n",
              "      <th>element</th>\n",
              "      <th>yi</th>\n",
              "      <th>Tci(R)</th>\n",
              "      <th>Pci(psi)</th>\n",
              "    </tr>\n",
              "  </thead>\n",
              "  <tbody>\n",
              "    <tr>\n",
              "      <th>0</th>\n",
              "      <td>CO2</td>\n",
              "      <td>0.02</td>\n",
              "      <td>547.91</td>\n",
              "      <td>1071.0</td>\n",
              "    </tr>\n",
              "    <tr>\n",
              "      <th>1</th>\n",
              "      <td>N2</td>\n",
              "      <td>0.01</td>\n",
              "      <td>227.49</td>\n",
              "      <td>493.1</td>\n",
              "    </tr>\n",
              "    <tr>\n",
              "      <th>2</th>\n",
              "      <td>C1</td>\n",
              "      <td>0.85</td>\n",
              "      <td>343.33</td>\n",
              "      <td>666.4</td>\n",
              "    </tr>\n",
              "    <tr>\n",
              "      <th>3</th>\n",
              "      <td>C2</td>\n",
              "      <td>0.04</td>\n",
              "      <td>549.92</td>\n",
              "      <td>706.5</td>\n",
              "    </tr>\n",
              "    <tr>\n",
              "      <th>4</th>\n",
              "      <td>C3</td>\n",
              "      <td>0.03</td>\n",
              "      <td>666.06</td>\n",
              "      <td>616.4</td>\n",
              "    </tr>\n",
              "    <tr>\n",
              "      <th>5</th>\n",
              "      <td>i-C4</td>\n",
              "      <td>0.03</td>\n",
              "      <td>734.46</td>\n",
              "      <td>527.9</td>\n",
              "    </tr>\n",
              "    <tr>\n",
              "      <th>6</th>\n",
              "      <td>n-C4</td>\n",
              "      <td>0.02</td>\n",
              "      <td>765.62</td>\n",
              "      <td>550.6</td>\n",
              "    </tr>\n",
              "  </tbody>\n",
              "</table>\n",
              "</div>"
            ],
            "text/plain": [
              "  element    yi  Tci(R)  Pci(psi)\n",
              "0     CO2  0.02  547.91    1071.0\n",
              "1      N2  0.01  227.49     493.1\n",
              "2      C1  0.85  343.33     666.4\n",
              "3      C2  0.04  549.92     706.5\n",
              "4      C3  0.03  666.06     616.4\n",
              "5    i-C4  0.03  734.46     527.9\n",
              "6    n-C4  0.02  765.62     550.6"
            ]
          },
          "metadata": {
            "tags": []
          },
          "execution_count": 7
        }
      ]
    },
    {
      "cell_type": "code",
      "metadata": {
        "id": "h-CzMcjyHgyr",
        "colab_type": "code",
        "colab": {}
      },
      "source": [
        "df['yi*Tci'] = df['yi']*df['Tci(R)']\n",
        "\n",
        "df['yi*Pci'] = df['yi']*df['Pci(psi)']"
      ],
      "execution_count": 8,
      "outputs": []
    },
    {
      "cell_type": "markdown",
      "metadata": {
        "id": "xBY2wo1bKT5f",
        "colab_type": "text"
      },
      "source": [
        "> Tpc = Summation (yi*Tci)\n",
        "\n",
        "> Ppc = Summation (yi*Pci)"
      ]
    },
    {
      "cell_type": "markdown",
      "metadata": {
        "id": "C4bxfzGhNQqy",
        "colab_type": "text"
      },
      "source": [
        "Approach 1"
      ]
    },
    {
      "cell_type": "code",
      "metadata": {
        "id": "KZAQ1YVbJRz_",
        "colab_type": "code",
        "colab": {
          "base_uri": "https://localhost:8080/",
          "height": 35
        },
        "outputId": "5b789827-9d20-4dfd-8903-108e10b73379"
      },
      "source": [
        "#Pseudo Critical Temperature\n",
        "Tpc = df['yi*Tci'].sum()\n",
        "\n",
        "#Pseudo Critical Pressure\n",
        "Ppc = df['yi*Pci'].sum()\n",
        "\n",
        "print(Tpc,Ppc)"
      ],
      "execution_count": 26,
      "outputs": [
        {
          "output_type": "stream",
          "text": [
            "384.3884 666.3919999999998\n"
          ],
          "name": "stdout"
        }
      ]
    },
    {
      "cell_type": "code",
      "metadata": {
        "id": "d25zJfRhJaFu",
        "colab_type": "code",
        "colab": {}
      },
      "source": [
        "#Reservoir Properties\n",
        "P = 3000  #Reservoir Pressure\n",
        "\n",
        "T = 180 + 460 #deg Rankine"
      ],
      "execution_count": 11,
      "outputs": []
    },
    {
      "cell_type": "markdown",
      "metadata": {
        "id": "6jsUdXiZK02S",
        "colab_type": "text"
      },
      "source": [
        "> Ppr = P/Ppc\n",
        "\n",
        "> Tpr = T/Tpc"
      ]
    },
    {
      "cell_type": "code",
      "metadata": {
        "id": "LwMTdyPKKxNR",
        "colab_type": "code",
        "colab": {}
      },
      "source": [
        "#Pseudo Reduced Properties\n",
        "Ppr = P/Ppc\n",
        "\n",
        "Tpr = T/Tpc"
      ],
      "execution_count": 12,
      "outputs": []
    },
    {
      "cell_type": "markdown",
      "metadata": {
        "id": "oCzOPIutLRGn",
        "colab_type": "text"
      },
      "source": [
        "#Approach 2:"
      ]
    },
    {
      "cell_type": "code",
      "metadata": {
        "id": "iPPWzk3VLBgx",
        "colab_type": "code",
        "colab": {
          "base_uri": "https://localhost:8080/",
          "height": 126
        },
        "outputId": "f67c909e-60bf-4351-896e-7957b10b3e60"
      },
      "source": [
        "gas = df[['element','yi']]\n",
        "\n",
        "gas['Mi'] = np.array([44,28,16,30,44,58,58])"
      ],
      "execution_count": 17,
      "outputs": [
        {
          "output_type": "stream",
          "text": [
            "/usr/local/lib/python3.6/dist-packages/ipykernel_launcher.py:3: SettingWithCopyWarning: \n",
            "A value is trying to be set on a copy of a slice from a DataFrame.\n",
            "Try using .loc[row_indexer,col_indexer] = value instead\n",
            "\n",
            "See the caveats in the documentation: https://pandas.pydata.org/pandas-docs/stable/user_guide/indexing.html#returning-a-view-versus-a-copy\n",
            "  This is separate from the ipykernel package so we can avoid doing imports until\n"
          ],
          "name": "stderr"
        }
      ]
    },
    {
      "cell_type": "code",
      "metadata": {
        "id": "WCAgEQU7LeOr",
        "colab_type": "code",
        "colab": {
          "base_uri": "https://localhost:8080/",
          "height": 126
        },
        "outputId": "656c8c1a-a67a-4f86-9842-ecdbfe5e02b4"
      },
      "source": [
        "gas['yi*Mi'] = gas['yi']*gas['Mi']\n",
        "\n",
        "Mav = gas['yi*Mi'].sum()"
      ],
      "execution_count": 19,
      "outputs": [
        {
          "output_type": "stream",
          "text": [
            "/usr/local/lib/python3.6/dist-packages/ipykernel_launcher.py:1: SettingWithCopyWarning: \n",
            "A value is trying to be set on a copy of a slice from a DataFrame.\n",
            "Try using .loc[row_indexer,col_indexer] = value instead\n",
            "\n",
            "See the caveats in the documentation: https://pandas.pydata.org/pandas-docs/stable/user_guide/indexing.html#returning-a-view-versus-a-copy\n",
            "  \"\"\"Entry point for launching an IPython kernel.\n"
          ],
          "name": "stderr"
        }
      ]
    },
    {
      "cell_type": "code",
      "metadata": {
        "id": "9-__IlVILfIP",
        "colab_type": "code",
        "colab": {
          "base_uri": "https://localhost:8080/",
          "height": 35
        },
        "outputId": "7da56b5f-ce7b-428e-d8c8-2383aec44f43"
      },
      "source": [
        "Mav"
      ],
      "execution_count": 20,
      "outputs": [
        {
          "output_type": "execute_result",
          "data": {
            "text/plain": [
              "20.179999999999996"
            ]
          },
          "metadata": {
            "tags": []
          },
          "execution_count": 20
        }
      ]
    },
    {
      "cell_type": "code",
      "metadata": {
        "id": "j8NqwyG-MIfC",
        "colab_type": "code",
        "colab": {}
      },
      "source": [
        "vg = Mav/28.97"
      ],
      "execution_count": 27,
      "outputs": []
    },
    {
      "cell_type": "code",
      "metadata": {
        "id": "yavci4i7MS_u",
        "colab_type": "code",
        "colab": {
          "base_uri": "https://localhost:8080/",
          "height": 35
        },
        "outputId": "321f8194-9384-48ff-88da-12b3554de856"
      },
      "source": [
        "vg"
      ],
      "execution_count": 28,
      "outputs": [
        {
          "output_type": "execute_result",
          "data": {
            "text/plain": [
              "0.6965826717293752"
            ]
          },
          "metadata": {
            "tags": []
          },
          "execution_count": 28
        }
      ]
    },
    {
      "cell_type": "code",
      "metadata": {
        "id": "4iAteDrjMUBG",
        "colab_type": "code",
        "colab": {
          "base_uri": "https://localhost:8080/",
          "height": 35
        },
        "outputId": "b4473910-e819-4505-c5b7-bc1a4abd8c0e"
      },
      "source": [
        "T_pc = 168 + 325*vg -12.5*(vg**2)\n",
        "\n",
        "# T_pc\n",
        "\n",
        "P_pc = 677 + 15*vg - 37.5*(vg**2)\n",
        "\n",
        "print(T_pc,P_pc)"
      ],
      "execution_count": 30,
      "outputs": [
        {
          "output_type": "stream",
          "text": [
            "388.3240255801265 669.2527118801793\n"
          ],
          "name": "stdout"
        }
      ]
    },
    {
      "cell_type": "code",
      "metadata": {
        "id": "r112cUv1ZlzT",
        "colab_type": "code",
        "colab": {}
      },
      "source": [
        "T_pr = T/T_pc\n",
        "\n",
        "P_pr = P/P_pc"
      ],
      "execution_count": 33,
      "outputs": []
    },
    {
      "cell_type": "code",
      "metadata": {
        "id": "c2ce_RyBMhjZ",
        "colab_type": "code",
        "colab": {}
      },
      "source": [
        "#Standing and KatZ data-set. \n",
        "\n",
        "# 1.05->\n",
        "# 1 0.204 0.937 TRUE       0.2   4.00e- 3\n",
        "#  2 0.3   0.905 TRUE       0.3  -5.55e-17\n",
        "#  3 0.405 0.866 TRUE       0.4   5.00e- 3\n",
        "#  4 0.504 0.829 TRUE       0.5   4.00e- 3\n",
        "#  5 0.602 0.79  TRUE       0.6   2.00e- 3\n",
        "#  6 0.7   0.748 TRUE       0.7  -1.11e-16\n",
        "#  7 1     0.589 TRUE       1     0.      \n",
        "#  8 1.20  0.44  TRUE       1.2   3.00e- 3\n",
        "#  9 1.30  0.35  TRUE       1.3  10.00e- 4\n",
        "# 10 1.33  0.319 FALSE      1.33  0.      \n",
        "# ppr_1 = [0.204,0.3,0.405,0.504,0.602,0.7,1,1.20,1.30,1.33]\n",
        "# z_1 = [0.937,0.905,0.866,0.829,0.79,0.748,0.89,0.44,0.3,0.319]\n",
        "\n",
        "# plt.plot(ppr_1,z_1)\n",
        "# 1.3->\n",
        "#      Ppr     z isNear Ppr_near      diff\n",
        "#    <dbl> <dbl> <lgl>     <dbl>     <dbl>\n",
        "#  1 0.201 0.967 TRUE        0.2  1.00e- 3\n",
        "#  2 0.302 0.95  TRUE        0.3  2.00e- 3\n",
        "#  3 0.401 0.935 TRUE        0.4  1.00e- 3\n",
        "#  4 0.504 0.916 TRUE        0.5  4.00e- 3\n",
        "#  5 0.6   0.901 TRUE        0.6 -1.11e-16\n",
        "#  6 0.804 0.868 TRUE        0.8  4.00e- 3\n",
        "#  7 1.00  0.835 TRUE        1    2.00e- 3\n",
        "#  8 1.20  0.804 TRUE        1.2  2.00e- 3\n",
        "#  9 1.30  0.788 TRUE        1.3  3.00e- 3\n",
        "# 10 1.50  0.756 TRUE        1.5  3.00e- 3\n",
        "\n",
        "\n",
        "# 1.5->\n",
        "#      Ppr     z isNear Ppr_near     diff\n",
        "#    <dbl> <dbl> <lgl>     <dbl>    <dbl>\n",
        "#  1 0.202 0.978 TRUE        0.2 0.002   \n",
        "#  2 0.303 0.967 TRUE        0.3 0.00300 \n",
        "#  3 0.404 0.958 TRUE        0.4 0.004   \n",
        "#  4 0.506 0.948 TRUE        0.5 0.006   \n",
        "#  5 0.701 0.929 TRUE        0.7 0.001000\n",
        "#  6 0.801 0.919 TRUE        0.8 0.001   \n",
        "#  7 1     0.9   TRUE        1   0       \n",
        "#  8 1.30  0.875 TRUE        1.3 0.004   \n",
        "#  9 1.50  0.859 TRUE        1.5 0.00500 \n",
        "# 10 1.80  0.836 TRUE        1.8 0.00300 \n",
        "# # … with 27 more rows"
      ],
      "execution_count": 32,
      "outputs": []
    },
    {
      "cell_type": "code",
      "metadata": {
        "id": "AreXslhfYPau",
        "colab_type": "code",
        "colab": {}
      },
      "source": [
        "def z_calculator(T_pr,P_pr):\n",
        "  A = 1.39 * ((T_pr - 0.92) ** 0.5) - (0.36*T_pr) - 0.10\n",
        "  E = 9*(T_pr - 1)\n",
        "  B = (0.62 - 0.23*T_pr)*P_pr + ((0.066 / (T_pr - 0.86)) - 0.037)*(P_pr**2) + (0.32*(P_pr**2)) / (10*E)\n",
        "  C = 0.132 - 0.32 * math.log(T_pr)\n",
        "  F = 0.3106 - 0.49*T_pr + 0.1824*(T_pr**2)\n",
        "  D = 10 ** F\n",
        "\n",
        "  z = A + ((1 - A) / math.exp(B)) + (C * (P_pr ** D))\n",
        "\n",
        "  return z\n",
        "\n"
      ],
      "execution_count": 35,
      "outputs": []
    },
    {
      "cell_type": "code",
      "metadata": {
        "id": "-d0ZDNwCaYAH",
        "colab_type": "code",
        "colab": {}
      },
      "source": [
        "z = z_calculator(T_pr,P_pr)"
      ],
      "execution_count": 36,
      "outputs": []
    },
    {
      "cell_type": "code",
      "metadata": {
        "id": "D20WpelJadIp",
        "colab_type": "code",
        "colab": {}
      },
      "source": [
        "p = np.linspace(1000,5000,50)\n",
        "\n",
        "ppr = p/P_pc\n",
        "\n",
        "tpr = [1.05,1.1,1.15,1.2,1.25,1.3]\n",
        "\n",
        "\n",
        "z_o = []\n",
        "\n",
        "for t in tpr:\n",
        "  z_in = []\n",
        "  for pr in ppr:\n",
        "\n",
        "    res = z_calculator(t,pr)\n",
        "\n",
        "    z_in.append(res)\n",
        "  \n",
        "  z_o.append(z_in)"
      ],
      "execution_count": 39,
      "outputs": []
    },
    {
      "cell_type": "code",
      "metadata": {
        "id": "NaLXLue2aeB2",
        "colab_type": "code",
        "colab": {}
      },
      "source": [
        "z_df = pd.DataFrame(z_o)"
      ],
      "execution_count": 41,
      "outputs": []
    },
    {
      "cell_type": "code",
      "metadata": {
        "id": "WaHNhC0sb8jO",
        "colab_type": "code",
        "colab": {}
      },
      "source": [
        "z_df = z_df.T"
      ],
      "execution_count": 43,
      "outputs": []
    },
    {
      "cell_type": "code",
      "metadata": {
        "id": "2ZfLz7N-cFnD",
        "colab_type": "code",
        "colab": {
          "base_uri": "https://localhost:8080/",
          "height": 1000
        },
        "outputId": "2e7634f5-e62c-4fba-e3e1-e844e2de4be9"
      },
      "source": [
        "z_df.columns = ['T_pr(1.05)','T_pr(1.10)','T_pr(1.15)','T_pr(1.20)','T_pr(1.25)','T_pr(1.30)']\n",
        "\n",
        "z_df.index = p/P_pc\n",
        "z_df"
      ],
      "execution_count": 55,
      "outputs": [
        {
          "output_type": "execute_result",
          "data": {
            "text/html": [
              "<div>\n",
              "<style scoped>\n",
              "    .dataframe tbody tr th:only-of-type {\n",
              "        vertical-align: middle;\n",
              "    }\n",
              "\n",
              "    .dataframe tbody tr th {\n",
              "        vertical-align: top;\n",
              "    }\n",
              "\n",
              "    .dataframe thead th {\n",
              "        text-align: right;\n",
              "    }\n",
              "</style>\n",
              "<table border=\"1\" class=\"dataframe\">\n",
              "  <thead>\n",
              "    <tr style=\"text-align: right;\">\n",
              "      <th></th>\n",
              "      <th>T_pr(1.05)</th>\n",
              "      <th>T_pr(1.10)</th>\n",
              "      <th>T_pr(1.15)</th>\n",
              "      <th>T_pr(1.20)</th>\n",
              "      <th>T_pr(1.25)</th>\n",
              "      <th>T_pr(1.30)</th>\n",
              "    </tr>\n",
              "  </thead>\n",
              "  <tbody>\n",
              "    <tr>\n",
              "      <th>1.494204</th>\n",
              "      <td>0.433389</td>\n",
              "      <td>0.528676</td>\n",
              "      <td>0.590395</td>\n",
              "      <td>0.634488</td>\n",
              "      <td>0.667388</td>\n",
              "      <td>0.692586</td>\n",
              "    </tr>\n",
              "    <tr>\n",
              "      <th>1.616180</th>\n",
              "      <td>0.406309</td>\n",
              "      <td>0.501493</td>\n",
              "      <td>0.564451</td>\n",
              "      <td>0.609952</td>\n",
              "      <td>0.644160</td>\n",
              "      <td>0.670495</td>\n",
              "    </tr>\n",
              "    <tr>\n",
              "      <th>1.738156</th>\n",
              "      <td>0.384548</td>\n",
              "      <td>0.477999</td>\n",
              "      <td>0.541198</td>\n",
              "      <td>0.587445</td>\n",
              "      <td>0.622498</td>\n",
              "      <td>0.649637</td>\n",
              "    </tr>\n",
              "    <tr>\n",
              "      <th>1.860131</th>\n",
              "      <td>0.367867</td>\n",
              "      <td>0.458193</td>\n",
              "      <td>0.520704</td>\n",
              "      <td>0.567052</td>\n",
              "      <td>0.602490</td>\n",
              "      <td>0.630092</td>\n",
              "    </tr>\n",
              "    <tr>\n",
              "      <th>1.982107</th>\n",
              "      <td>0.355914</td>\n",
              "      <td>0.441991</td>\n",
              "      <td>0.502980</td>\n",
              "      <td>0.548820</td>\n",
              "      <td>0.584192</td>\n",
              "      <td>0.611920</td>\n",
              "    </tr>\n",
              "    <tr>\n",
              "      <th>2.104083</th>\n",
              "      <td>0.348263</td>\n",
              "      <td>0.429240</td>\n",
              "      <td>0.487983</td>\n",
              "      <td>0.532756</td>\n",
              "      <td>0.567635</td>\n",
              "      <td>0.595158</td>\n",
              "    </tr>\n",
              "    <tr>\n",
              "      <th>2.226059</th>\n",
              "      <td>0.344447</td>\n",
              "      <td>0.419735</td>\n",
              "      <td>0.475630</td>\n",
              "      <td>0.518838</td>\n",
              "      <td>0.552825</td>\n",
              "      <td>0.579828</td>\n",
              "    </tr>\n",
              "    <tr>\n",
              "      <th>2.348035</th>\n",
              "      <td>0.343983</td>\n",
              "      <td>0.413234</td>\n",
              "      <td>0.465802</td>\n",
              "      <td>0.507010</td>\n",
              "      <td>0.539745</td>\n",
              "      <td>0.565933</td>\n",
              "    </tr>\n",
              "    <tr>\n",
              "      <th>2.470010</th>\n",
              "      <td>0.346394</td>\n",
              "      <td>0.409470</td>\n",
              "      <td>0.458352</td>\n",
              "      <td>0.497198</td>\n",
              "      <td>0.528359</td>\n",
              "      <td>0.553459</td>\n",
              "    </tr>\n",
              "    <tr>\n",
              "      <th>2.591986</th>\n",
              "      <td>0.351230</td>\n",
              "      <td>0.408165</td>\n",
              "      <td>0.453114</td>\n",
              "      <td>0.489304</td>\n",
              "      <td>0.518613</td>\n",
              "      <td>0.542382</td>\n",
              "    </tr>\n",
              "    <tr>\n",
              "      <th>2.713962</th>\n",
              "      <td>0.358076</td>\n",
              "      <td>0.409038</td>\n",
              "      <td>0.449911</td>\n",
              "      <td>0.483218</td>\n",
              "      <td>0.510441</td>\n",
              "      <td>0.532662</td>\n",
              "    </tr>\n",
              "    <tr>\n",
              "      <th>2.835938</th>\n",
              "      <td>0.366563</td>\n",
              "      <td>0.411817</td>\n",
              "      <td>0.448557</td>\n",
              "      <td>0.478818</td>\n",
              "      <td>0.503765</td>\n",
              "      <td>0.524251</td>\n",
              "    </tr>\n",
              "    <tr>\n",
              "      <th>2.957914</th>\n",
              "      <td>0.376366</td>\n",
              "      <td>0.416242</td>\n",
              "      <td>0.448865</td>\n",
              "      <td>0.475977</td>\n",
              "      <td>0.498499</td>\n",
              "      <td>0.517092</td>\n",
              "    </tr>\n",
              "    <tr>\n",
              "      <th>3.079890</th>\n",
              "      <td>0.387211</td>\n",
              "      <td>0.422071</td>\n",
              "      <td>0.450654</td>\n",
              "      <td>0.474562</td>\n",
              "      <td>0.494551</td>\n",
              "      <td>0.511123</td>\n",
              "    </tr>\n",
              "    <tr>\n",
              "      <th>3.201865</th>\n",
              "      <td>0.398868</td>\n",
              "      <td>0.429085</td>\n",
              "      <td>0.453747</td>\n",
              "      <td>0.474442</td>\n",
              "      <td>0.491824</td>\n",
              "      <td>0.506276</td>\n",
              "    </tr>\n",
              "    <tr>\n",
              "      <th>3.323841</th>\n",
              "      <td>0.411148</td>\n",
              "      <td>0.437087</td>\n",
              "      <td>0.457979</td>\n",
              "      <td>0.475488</td>\n",
              "      <td>0.490223</td>\n",
              "      <td>0.502478</td>\n",
              "    </tr>\n",
              "    <tr>\n",
              "      <th>3.445817</th>\n",
              "      <td>0.423899</td>\n",
              "      <td>0.445902</td>\n",
              "      <td>0.463195</td>\n",
              "      <td>0.477574</td>\n",
              "      <td>0.489650</td>\n",
              "      <td>0.499658</td>\n",
              "    </tr>\n",
              "    <tr>\n",
              "      <th>3.567793</th>\n",
              "      <td>0.437002</td>\n",
              "      <td>0.455382</td>\n",
              "      <td>0.469254</td>\n",
              "      <td>0.480582</td>\n",
              "      <td>0.490009</td>\n",
              "      <td>0.497741</td>\n",
              "    </tr>\n",
              "    <tr>\n",
              "      <th>3.689769</th>\n",
              "      <td>0.450362</td>\n",
              "      <td>0.465397</td>\n",
              "      <td>0.476030</td>\n",
              "      <td>0.484401</td>\n",
              "      <td>0.491210</td>\n",
              "      <td>0.496654</td>\n",
              "    </tr>\n",
              "    <tr>\n",
              "      <th>3.811745</th>\n",
              "      <td>0.463910</td>\n",
              "      <td>0.475838</td>\n",
              "      <td>0.483408</td>\n",
              "      <td>0.488926</td>\n",
              "      <td>0.493163</td>\n",
              "      <td>0.496325</td>\n",
              "    </tr>\n",
              "    <tr>\n",
              "      <th>3.933720</th>\n",
              "      <td>0.477590</td>\n",
              "      <td>0.486616</td>\n",
              "      <td>0.491288</td>\n",
              "      <td>0.494062</td>\n",
              "      <td>0.495785</td>\n",
              "      <td>0.496685</td>\n",
              "    </tr>\n",
              "    <tr>\n",
              "      <th>4.055696</th>\n",
              "      <td>0.491365</td>\n",
              "      <td>0.497656</td>\n",
              "      <td>0.499584</td>\n",
              "      <td>0.499724</td>\n",
              "      <td>0.499000</td>\n",
              "      <td>0.497667</td>\n",
              "    </tr>\n",
              "    <tr>\n",
              "      <th>4.177672</th>\n",
              "      <td>0.505203</td>\n",
              "      <td>0.508899</td>\n",
              "      <td>0.508221</td>\n",
              "      <td>0.505834</td>\n",
              "      <td>0.502734</td>\n",
              "      <td>0.499206</td>\n",
              "    </tr>\n",
              "    <tr>\n",
              "      <th>4.299648</th>\n",
              "      <td>0.519086</td>\n",
              "      <td>0.520296</td>\n",
              "      <td>0.517133</td>\n",
              "      <td>0.512324</td>\n",
              "      <td>0.506921</td>\n",
              "      <td>0.501245</td>\n",
              "    </tr>\n",
              "    <tr>\n",
              "      <th>4.421624</th>\n",
              "      <td>0.532998</td>\n",
              "      <td>0.531809</td>\n",
              "      <td>0.526269</td>\n",
              "      <td>0.519134</td>\n",
              "      <td>0.511502</td>\n",
              "      <td>0.503726</td>\n",
              "    </tr>\n",
              "    <tr>\n",
              "      <th>4.543600</th>\n",
              "      <td>0.546928</td>\n",
              "      <td>0.543409</td>\n",
              "      <td>0.535581</td>\n",
              "      <td>0.526209</td>\n",
              "      <td>0.516422</td>\n",
              "      <td>0.506598</td>\n",
              "    </tr>\n",
              "    <tr>\n",
              "      <th>4.665575</th>\n",
              "      <td>0.560870</td>\n",
              "      <td>0.555071</td>\n",
              "      <td>0.545033</td>\n",
              "      <td>0.533505</td>\n",
              "      <td>0.521633</td>\n",
              "      <td>0.509815</td>\n",
              "    </tr>\n",
              "    <tr>\n",
              "      <th>4.787551</th>\n",
              "      <td>0.574819</td>\n",
              "      <td>0.566779</td>\n",
              "      <td>0.554595</td>\n",
              "      <td>0.540982</td>\n",
              "      <td>0.527091</td>\n",
              "      <td>0.513332</td>\n",
              "    </tr>\n",
              "    <tr>\n",
              "      <th>4.909527</th>\n",
              "      <td>0.588771</td>\n",
              "      <td>0.578518</td>\n",
              "      <td>0.564241</td>\n",
              "      <td>0.548607</td>\n",
              "      <td>0.532758</td>\n",
              "      <td>0.517111</td>\n",
              "    </tr>\n",
              "    <tr>\n",
              "      <th>5.031503</th>\n",
              "      <td>0.602726</td>\n",
              "      <td>0.590279</td>\n",
              "      <td>0.573952</td>\n",
              "      <td>0.556352</td>\n",
              "      <td>0.538601</td>\n",
              "      <td>0.521115</td>\n",
              "    </tr>\n",
              "    <tr>\n",
              "      <th>5.153479</th>\n",
              "      <td>0.616680</td>\n",
              "      <td>0.602055</td>\n",
              "      <td>0.583711</td>\n",
              "      <td>0.564192</td>\n",
              "      <td>0.544592</td>\n",
              "      <td>0.525315</td>\n",
              "    </tr>\n",
              "    <tr>\n",
              "      <th>5.275455</th>\n",
              "      <td>0.630633</td>\n",
              "      <td>0.613839</td>\n",
              "      <td>0.593506</td>\n",
              "      <td>0.572109</td>\n",
              "      <td>0.550704</td>\n",
              "      <td>0.529682</td>\n",
              "    </tr>\n",
              "    <tr>\n",
              "      <th>5.397430</th>\n",
              "      <td>0.644586</td>\n",
              "      <td>0.625628</td>\n",
              "      <td>0.603327</td>\n",
              "      <td>0.580085</td>\n",
              "      <td>0.556917</td>\n",
              "      <td>0.534190</td>\n",
              "    </tr>\n",
              "    <tr>\n",
              "      <th>5.519406</th>\n",
              "      <td>0.658537</td>\n",
              "      <td>0.637420</td>\n",
              "      <td>0.613166</td>\n",
              "      <td>0.588108</td>\n",
              "      <td>0.563212</td>\n",
              "      <td>0.538819</td>\n",
              "    </tr>\n",
              "    <tr>\n",
              "      <th>5.641382</th>\n",
              "      <td>0.672486</td>\n",
              "      <td>0.649211</td>\n",
              "      <td>0.623017</td>\n",
              "      <td>0.596167</td>\n",
              "      <td>0.569575</td>\n",
              "      <td>0.543548</td>\n",
              "    </tr>\n",
              "    <tr>\n",
              "      <th>5.763358</th>\n",
              "      <td>0.686434</td>\n",
              "      <td>0.661002</td>\n",
              "      <td>0.632877</td>\n",
              "      <td>0.604253</td>\n",
              "      <td>0.575990</td>\n",
              "      <td>0.548363</td>\n",
              "    </tr>\n",
              "    <tr>\n",
              "      <th>5.885334</th>\n",
              "      <td>0.700380</td>\n",
              "      <td>0.672790</td>\n",
              "      <td>0.642741</td>\n",
              "      <td>0.612358</td>\n",
              "      <td>0.582449</td>\n",
              "      <td>0.553248</td>\n",
              "    </tr>\n",
              "    <tr>\n",
              "      <th>6.007309</th>\n",
              "      <td>0.714324</td>\n",
              "      <td>0.684575</td>\n",
              "      <td>0.652607</td>\n",
              "      <td>0.620478</td>\n",
              "      <td>0.588942</td>\n",
              "      <td>0.558192</td>\n",
              "    </tr>\n",
              "    <tr>\n",
              "      <th>6.129285</th>\n",
              "      <td>0.728266</td>\n",
              "      <td>0.696357</td>\n",
              "      <td>0.662473</td>\n",
              "      <td>0.628608</td>\n",
              "      <td>0.595461</td>\n",
              "      <td>0.563183</td>\n",
              "    </tr>\n",
              "    <tr>\n",
              "      <th>6.251261</th>\n",
              "      <td>0.742207</td>\n",
              "      <td>0.708136</td>\n",
              "      <td>0.672337</td>\n",
              "      <td>0.636744</td>\n",
              "      <td>0.602000</td>\n",
              "      <td>0.568214</td>\n",
              "    </tr>\n",
              "    <tr>\n",
              "      <th>6.373237</th>\n",
              "      <td>0.756146</td>\n",
              "      <td>0.719911</td>\n",
              "      <td>0.682199</td>\n",
              "      <td>0.644883</td>\n",
              "      <td>0.608554</td>\n",
              "      <td>0.573276</td>\n",
              "    </tr>\n",
              "    <tr>\n",
              "      <th>6.495213</th>\n",
              "      <td>0.770083</td>\n",
              "      <td>0.731682</td>\n",
              "      <td>0.692059</td>\n",
              "      <td>0.653025</td>\n",
              "      <td>0.615120</td>\n",
              "      <td>0.578363</td>\n",
              "    </tr>\n",
              "    <tr>\n",
              "      <th>6.617189</th>\n",
              "      <td>0.784018</td>\n",
              "      <td>0.743450</td>\n",
              "      <td>0.701914</td>\n",
              "      <td>0.661166</td>\n",
              "      <td>0.621693</td>\n",
              "      <td>0.583470</td>\n",
              "    </tr>\n",
              "    <tr>\n",
              "      <th>6.739164</th>\n",
              "      <td>0.797952</td>\n",
              "      <td>0.755214</td>\n",
              "      <td>0.711766</td>\n",
              "      <td>0.669307</td>\n",
              "      <td>0.628272</td>\n",
              "      <td>0.588593</td>\n",
              "    </tr>\n",
              "    <tr>\n",
              "      <th>6.861140</th>\n",
              "      <td>0.811884</td>\n",
              "      <td>0.766974</td>\n",
              "      <td>0.721614</td>\n",
              "      <td>0.677445</td>\n",
              "      <td>0.634854</td>\n",
              "      <td>0.593728</td>\n",
              "    </tr>\n",
              "    <tr>\n",
              "      <th>6.983116</th>\n",
              "      <td>0.825814</td>\n",
              "      <td>0.778731</td>\n",
              "      <td>0.731458</td>\n",
              "      <td>0.685581</td>\n",
              "      <td>0.641437</td>\n",
              "      <td>0.598872</td>\n",
              "    </tr>\n",
              "    <tr>\n",
              "      <th>7.105092</th>\n",
              "      <td>0.839743</td>\n",
              "      <td>0.790484</td>\n",
              "      <td>0.741297</td>\n",
              "      <td>0.693713</td>\n",
              "      <td>0.648021</td>\n",
              "      <td>0.604022</td>\n",
              "    </tr>\n",
              "    <tr>\n",
              "      <th>7.227068</th>\n",
              "      <td>0.853671</td>\n",
              "      <td>0.802234</td>\n",
              "      <td>0.751133</td>\n",
              "      <td>0.701842</td>\n",
              "      <td>0.654604</td>\n",
              "      <td>0.609177</td>\n",
              "    </tr>\n",
              "    <tr>\n",
              "      <th>7.349044</th>\n",
              "      <td>0.867597</td>\n",
              "      <td>0.813980</td>\n",
              "      <td>0.760964</td>\n",
              "      <td>0.709967</td>\n",
              "      <td>0.661186</td>\n",
              "      <td>0.614335</td>\n",
              "    </tr>\n",
              "    <tr>\n",
              "      <th>7.471019</th>\n",
              "      <td>0.881521</td>\n",
              "      <td>0.825723</td>\n",
              "      <td>0.770791</td>\n",
              "      <td>0.718089</td>\n",
              "      <td>0.667765</td>\n",
              "      <td>0.619495</td>\n",
              "    </tr>\n",
              "  </tbody>\n",
              "</table>\n",
              "</div>"
            ],
            "text/plain": [
              "          T_pr(1.05)  T_pr(1.10)  ...  T_pr(1.25)  T_pr(1.30)\n",
              "1.494204    0.433389    0.528676  ...    0.667388    0.692586\n",
              "1.616180    0.406309    0.501493  ...    0.644160    0.670495\n",
              "1.738156    0.384548    0.477999  ...    0.622498    0.649637\n",
              "1.860131    0.367867    0.458193  ...    0.602490    0.630092\n",
              "1.982107    0.355914    0.441991  ...    0.584192    0.611920\n",
              "2.104083    0.348263    0.429240  ...    0.567635    0.595158\n",
              "2.226059    0.344447    0.419735  ...    0.552825    0.579828\n",
              "2.348035    0.343983    0.413234  ...    0.539745    0.565933\n",
              "2.470010    0.346394    0.409470  ...    0.528359    0.553459\n",
              "2.591986    0.351230    0.408165  ...    0.518613    0.542382\n",
              "2.713962    0.358076    0.409038  ...    0.510441    0.532662\n",
              "2.835938    0.366563    0.411817  ...    0.503765    0.524251\n",
              "2.957914    0.376366    0.416242  ...    0.498499    0.517092\n",
              "3.079890    0.387211    0.422071  ...    0.494551    0.511123\n",
              "3.201865    0.398868    0.429085  ...    0.491824    0.506276\n",
              "3.323841    0.411148    0.437087  ...    0.490223    0.502478\n",
              "3.445817    0.423899    0.445902  ...    0.489650    0.499658\n",
              "3.567793    0.437002    0.455382  ...    0.490009    0.497741\n",
              "3.689769    0.450362    0.465397  ...    0.491210    0.496654\n",
              "3.811745    0.463910    0.475838  ...    0.493163    0.496325\n",
              "3.933720    0.477590    0.486616  ...    0.495785    0.496685\n",
              "4.055696    0.491365    0.497656  ...    0.499000    0.497667\n",
              "4.177672    0.505203    0.508899  ...    0.502734    0.499206\n",
              "4.299648    0.519086    0.520296  ...    0.506921    0.501245\n",
              "4.421624    0.532998    0.531809  ...    0.511502    0.503726\n",
              "4.543600    0.546928    0.543409  ...    0.516422    0.506598\n",
              "4.665575    0.560870    0.555071  ...    0.521633    0.509815\n",
              "4.787551    0.574819    0.566779  ...    0.527091    0.513332\n",
              "4.909527    0.588771    0.578518  ...    0.532758    0.517111\n",
              "5.031503    0.602726    0.590279  ...    0.538601    0.521115\n",
              "5.153479    0.616680    0.602055  ...    0.544592    0.525315\n",
              "5.275455    0.630633    0.613839  ...    0.550704    0.529682\n",
              "5.397430    0.644586    0.625628  ...    0.556917    0.534190\n",
              "5.519406    0.658537    0.637420  ...    0.563212    0.538819\n",
              "5.641382    0.672486    0.649211  ...    0.569575    0.543548\n",
              "5.763358    0.686434    0.661002  ...    0.575990    0.548363\n",
              "5.885334    0.700380    0.672790  ...    0.582449    0.553248\n",
              "6.007309    0.714324    0.684575  ...    0.588942    0.558192\n",
              "6.129285    0.728266    0.696357  ...    0.595461    0.563183\n",
              "6.251261    0.742207    0.708136  ...    0.602000    0.568214\n",
              "6.373237    0.756146    0.719911  ...    0.608554    0.573276\n",
              "6.495213    0.770083    0.731682  ...    0.615120    0.578363\n",
              "6.617189    0.784018    0.743450  ...    0.621693    0.583470\n",
              "6.739164    0.797952    0.755214  ...    0.628272    0.588593\n",
              "6.861140    0.811884    0.766974  ...    0.634854    0.593728\n",
              "6.983116    0.825814    0.778731  ...    0.641437    0.598872\n",
              "7.105092    0.839743    0.790484  ...    0.648021    0.604022\n",
              "7.227068    0.853671    0.802234  ...    0.654604    0.609177\n",
              "7.349044    0.867597    0.813980  ...    0.661186    0.614335\n",
              "7.471019    0.881521    0.825723  ...    0.667765    0.619495\n",
              "\n",
              "[50 rows x 6 columns]"
            ]
          },
          "metadata": {
            "tags": []
          },
          "execution_count": 55
        }
      ]
    },
    {
      "cell_type": "code",
      "metadata": {
        "id": "kwkd71VMcU9G",
        "colab_type": "code",
        "colab": {
          "base_uri": "https://localhost:8080/",
          "height": 490
        },
        "outputId": "e2d95639-c213-478e-c4eb-fab7a36a5fb4"
      },
      "source": [
        "plt.figure(figsize=(8,4))\n",
        "plt.style.use('default')\n",
        "\n",
        "\n",
        "z_df.plot()\n",
        "\n",
        "\n",
        "plt.title('Z(Compressibility Factor) Calculation')\n",
        "\n",
        "plt.xlabel('Pseudo-Reduced Pressure')\n",
        "\n",
        "plt.ylabel('Z')\n",
        "\n",
        "\n",
        "plt.legend(loc='best')\n",
        "\n",
        "plt.grid()"
      ],
      "execution_count": 53,
      "outputs": [
        {
          "output_type": "display_data",
          "data": {
            "text/plain": [
              "<Figure size 800x400 with 0 Axes>"
            ]
          },
          "metadata": {
            "tags": []
          }
        },
        {
          "output_type": "display_data",
          "data": {
            "image/png": "[encoded data removed]",
            "text/plain": [
              "<Figure size 640x480 with 1 Axes>"
            ]
          },
          "metadata": {
            "tags": []
          }
        }
      ]
    },
    {
      "cell_type": "code",
      "metadata": {
        "id": "XOFLOQfWdKGr",
        "colab_type": "code",
        "colab": {}
      },
      "source": [
        ""
      ],
      "execution_count": null,
      "outputs": []
    }
  ]
}